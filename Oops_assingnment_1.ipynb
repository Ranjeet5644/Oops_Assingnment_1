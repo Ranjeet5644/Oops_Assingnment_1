{
 "cells": [
  {
   "cell_type": "markdown",
   "id": "a5b85c29",
   "metadata": {},
   "source": [
    "Q1.\n",
    " "
   ]
  },
  {
   "cell_type": "markdown",
   "id": "422ebf5f",
   "metadata": {},
   "source": [
    "class :-A class is a blueprint or a template for creating objects. It defines a set of attributes (data members) and methods (functions) that describe the characteristics and behavior of the objects belonging to that class.\n",
    "\n",
    "Object :- An object is an instance of a class.it can store data and perform actions based on the methods defined in the class. Each object created from a class can have its own unique data, but they all share the same structure and behavior defined in the class."
   ]
  },
  {
   "cell_type": "code",
   "execution_count": 5,
   "id": "7ee55782",
   "metadata": {},
   "outputs": [],
   "source": [
    "class car : #car is a class\n",
    "    def __init__(self, name , model, color): # __init__ is a special method which intialize the object\n",
    "        self.name = name\n",
    "        self.model = model\n",
    "        self.color = color\n",
    "        \n",
    "    def details_car(self):                       # details_car is a method \n",
    "        return self.name,self.model,self.color"
   ]
  },
  {
   "cell_type": "code",
   "execution_count": 6,
   "id": "520be537",
   "metadata": {},
   "outputs": [],
   "source": [
    "maruti = car(\"Suvs\",2023,\"Blue\")   # maruti is a object"
   ]
  },
  {
   "cell_type": "code",
   "execution_count": 7,
   "id": "30894f1e",
   "metadata": {},
   "outputs": [
    {
     "data": {
      "text/plain": [
       "('Suvs', 2023, 'Blue')"
      ]
     },
     "execution_count": 7,
     "metadata": {},
     "output_type": "execute_result"
    }
   ],
   "source": [
    "maruti.details_car()"
   ]
  },
  {
   "cell_type": "code",
   "execution_count": 8,
   "id": "93162b5d",
   "metadata": {},
   "outputs": [
    {
     "data": {
      "text/plain": [
       "'Suvs'"
      ]
     },
     "execution_count": 8,
     "metadata": {},
     "output_type": "execute_result"
    }
   ],
   "source": [
    "maruti.name"
   ]
  },
  {
   "cell_type": "markdown",
   "id": "30505b02",
   "metadata": {},
   "source": [
    "Q2."
   ]
  },
  {
   "cell_type": "markdown",
   "id": "b476e5be",
   "metadata": {},
   "source": [
    "1.Encapsulation\n",
    "2.Abstraction\n",
    "3.Inheritence\n",
    "4.Polymorphism"
   ]
  },
  {
   "cell_type": "markdown",
   "id": "84c188cf",
   "metadata": {},
   "source": [
    "Q3."
   ]
  },
  {
   "cell_type": "markdown",
   "id": "7f7b5efd",
   "metadata": {},
   "source": [
    "The __init__() function is a special method in Python classes that is automatically called when an object of the class is created. It stands for \"initialize\" and is also known as the constructor. This function is used to set up the initial state of an object by defining its attributes and performing any necessary setup tasks.\n",
    "Object Initialization: When a new object is created from a class, the __init__() method is automatically invoked. It allows you to initialize the object's attributes with values passed as arguments during object creation. This ensures that the object starts in a well-defined state."
   ]
  },
  {
   "cell_type": "code",
   "execution_count": 10,
   "id": "2e4d4a7c",
   "metadata": {},
   "outputs": [],
   "source": [
    "class car : #car is a class\n",
    "    def __init__(self, name , model, color): # __init__ is a special method which intialize the object\n",
    "        self.name = name\n",
    "        self.model = model\n",
    "        self.color = color\n",
    "        \n",
    "    def details_car(self):                       # details_car is a method \n",
    "        return self.name,self.model,self.color"
   ]
  },
  {
   "cell_type": "code",
   "execution_count": 11,
   "id": "db8832b8",
   "metadata": {},
   "outputs": [],
   "source": [
    "maruti = car(\"Suvs\",2023,\"Blue\")   # maruti is a object"
   ]
  },
  {
   "cell_type": "code",
   "execution_count": 12,
   "id": "c165bbd9",
   "metadata": {},
   "outputs": [
    {
     "data": {
      "text/plain": [
       "'Suvs'"
      ]
     },
     "execution_count": 12,
     "metadata": {},
     "output_type": "execute_result"
    }
   ],
   "source": [
    "maruti.name"
   ]
  },
  {
   "cell_type": "markdown",
   "id": "32b703b1",
   "metadata": {},
   "source": [
    "Q4."
   ]
  },
  {
   "cell_type": "markdown",
   "id": "987dbaae",
   "metadata": {},
   "source": [
    "In Object-Oriented Programming (OOP), self is a conventional name used for the first parameter of instance methods in Python classes. It represents the instance (object) on which the method is being called.\n",
    "\n",
    " By using self, you can access the instance variables (attributes) of the class within its methods. Instance variables are unique to each object created from the class, and self allows you to differentiate between the variables of different objects.\n"
   ]
  },
  {
   "cell_type": "markdown",
   "id": "3c6e7b32",
   "metadata": {},
   "source": [
    "Q5."
   ]
  },
  {
   "cell_type": "markdown",
   "id": "d3079c9e",
   "metadata": {},
   "source": [
    "Inheritance is a fundamental concept in Object-Oriented Programming (OOP) that allows a class subclass  to inherit the properties and behaviors of another class (called the superclass or base class). Inheritance promotes code reuse and helps in organizing classes in a hierarchical structure, where subclasses can extend and specialize the functionality of the superclass."
   ]
  },
  {
   "cell_type": "markdown",
   "id": "f0d0df10",
   "metadata": {},
   "source": [
    "Types of Inheritance:\n",
    "\n",
    "1.Single Inheritance:\n",
    "Single inheritance refers to the scenario where a subclass inherits from only one superclass. "
   ]
  },
  {
   "cell_type": "code",
   "execution_count": 13,
   "id": "db196450",
   "metadata": {},
   "outputs": [
    {
     "name": "stdout",
     "output_type": "stream",
     "text": [
      "Animal speaks.\n",
      "Dog barks.\n"
     ]
    }
   ],
   "source": [
    "class Animal:\n",
    "    def speak(self):\n",
    "        print(\"Animal speaks.\")\n",
    "\n",
    "class Dog(Animal):\n",
    "    def bark(self):\n",
    "        print(\"Dog barks.\")\n",
    "\n",
    "dog = Dog()\n",
    "dog.speak()  # Output: Animal speaks.\n",
    "dog.bark()   # Output: Dog barks.\n"
   ]
  },
  {
   "cell_type": "markdown",
   "id": "91e1a868",
   "metadata": {},
   "source": [
    "2.Multiple inheritance allows a subclass to inherit from more than one superclass. This means that the subclass can access the attributes and methods of multiple classes."
   ]
  },
  {
   "cell_type": "code",
   "execution_count": 14,
   "id": "b19d91f8",
   "metadata": {},
   "outputs": [
    {
     "name": "stdout",
     "output_type": "stream",
     "text": [
      "Vehicle started.\n",
      "Four-wheeler driving.\n"
     ]
    }
   ],
   "source": [
    "class Vehicle:\n",
    "    def start(self):\n",
    "        print(\"Vehicle started.\")\n",
    "\n",
    "class FourWheeler:\n",
    "    def drive(self):\n",
    "        print(\"Four-wheeler driving.\")\n",
    "\n",
    "class Car(Vehicle, FourWheeler):\n",
    "    pass\n",
    "\n",
    "car = Car()\n",
    "car.start()  # Output: Vehicle started.\n",
    "car.drive()  # Output: Four-wheeler driving.\n"
   ]
  },
  {
   "cell_type": "markdown",
   "id": "25be59d3",
   "metadata": {},
   "source": [
    "3.Multilevel Inheritance:\n",
    "Multilevel inheritance involves a chain of inheritance where a subclass becomes a superclass for another subclass"
   ]
  },
  {
   "cell_type": "code",
   "execution_count": 15,
   "id": "08bc3116",
   "metadata": {},
   "outputs": [
    {
     "name": "stdout",
     "output_type": "stream",
     "text": [
      "Animal speaks.\n",
      "Mammal gives birth.\n",
      "Dog barks.\n"
     ]
    }
   ],
   "source": [
    "class Animal:\n",
    "    def speak(self):\n",
    "        print(\"Animal speaks.\")\n",
    "\n",
    "class Mammal(Animal):\n",
    "    def give_birth(self):\n",
    "        print(\"Mammal gives birth.\")\n",
    "\n",
    "class Dog(Mammal):\n",
    "    def bark(self):\n",
    "        print(\"Dog barks.\")\n",
    "\n",
    "dog = Dog()\n",
    "dog.speak()      # Output: Animal speaks.\n",
    "dog.give_birth() # Output: Mammal gives birth.\n",
    "dog.bark()       # Output: Dog barks.\n"
   ]
  },
  {
   "cell_type": "code",
   "execution_count": null,
   "id": "6a1935c2",
   "metadata": {},
   "outputs": [],
   "source": []
  }
 ],
 "metadata": {
  "kernelspec": {
   "display_name": "Python 3 (ipykernel)",
   "language": "python",
   "name": "python3"
  },
  "language_info": {
   "codemirror_mode": {
    "name": "ipython",
    "version": 3
   },
   "file_extension": ".py",
   "mimetype": "text/x-python",
   "name": "python",
   "nbconvert_exporter": "python",
   "pygments_lexer": "ipython3",
   "version": "3.11.3"
  }
 },
 "nbformat": 4,
 "nbformat_minor": 5
}
